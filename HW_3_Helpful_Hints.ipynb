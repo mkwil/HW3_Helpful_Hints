{
 "cells": [
  {
   "cell_type": "markdown",
   "metadata": {},
   "source": [
    "# HW 3 Helpful Hints"
   ]
  },
  {
   "cell_type": "markdown",
   "metadata": {},
   "source": [
    "**About:**\n",
    "This Jupyter Notebook is intended to serve as a helpful aid when working on HW 3: Turtle Charter\n",
    "\n",
    "This tool is totally optional. For students who want the extra challenge, you can ignore this advice. However, if you'd like some additional guidance on: \n",
    "* scaffolding\n",
    "* useful functions\n",
    "* Tips/Tricks\n",
    "\n",
    "Please continue reading. \n",
    "\n",
    "**Caveats:**\n",
    "* Remember, there's more than one way to skin a cat (Explanation:https://grammarist.com/phrase/more-than-one-way-to-skin-a-cat/). You don't have to follow my recommendations below. They're just intended as a starting place. \n",
    "* I'm writing these tips in Jupyter for maximum readability. If you choose to borrow code, in order to actually get the code to run in your program, you will need to paste it into your .py script. **Do not submit a Jupyter Notebook for your Turtle solution!!** Jupyter doesn't play well with Turtles..."
   ]
  },
  {
   "cell_type": "markdown",
   "metadata": {},
   "source": [
    "## Set-up\n",
    "I give you some out of the box starter code. Here's a little more on it: "
   ]
  },
  {
   "cell_type": "code",
   "execution_count": null,
   "metadata": {},
   "outputs": [],
   "source": [
    "import turtle  # import module so you can work with it\n",
    "\n",
    "# Define window size as constants\n",
    "window = turtle.Screen()  # create a window (canvas) for the turtle to draw on\n",
    "window.title(\"Turtle Demo\")  # the title to show at the top of the window\n",
    "WINDOW_WIDTH = 800  # size constants for easy changing\n",
    "WINDOW_HEIGHT = 500\n",
    "window.setup(WINDOW_WIDTH, WINDOW_HEIGHT)  # set window size (width, height)\n",
    "window.setworldcoordinates(-20, -20, WINDOW_WIDTH, WINDOW_HEIGHT)  # coord system\n",
    "# out of the box, the coordinates are set to (0,0,WW, WH), but if you noticed your turtle\n",
    "# is drawing off the screen, adjust these to something like better, (-20,-20, WW, WH)\n",
    "\n",
    "# Create the Turtle! Initialize a turtle variable and call the turtle function. \n",
    "my_turtle = turtle.Turtle()\n",
    "my_turtle.speed(\"slowest\")  \n",
    "\n",
    "# try slower speeds when you're just getting used to the turtle and when troubleshooting.\n",
    "# Later, when you're bored watching your turtle, you can crank up the speed\n",
    "\n",
    "###Code to make your turtle dance and move is here............................ see below\n",
    "\n",
    "# Make turtle graphics appear and run; wait for the user to close the screen\n",
    "# This MUST be the last statement executed in the script\n",
    "window.mainloop()\n"
   ]
  },
  {
   "cell_type": "markdown",
   "metadata": {},
   "source": [
    "**Footnote:** BTW, you don't have to name your turtle \"my_turtle\". That's a boring name for a turtle. \n",
    "\n",
    "Maybe you want to give your turtle a cool personalized name, like Henry...or Nina. I like that name. Also, Nina has like half as many letters as \"my_turtle\", which I'll reiterate, is not an exciting name for a turtle. Save yourself some typing and pick a cool short name for your turtle.\n",
    "\n",
    "Or maybe to you, it's not a turtle, maybe it's a seahorse. \n",
    "\n",
    "I also like seahorses, so if you decide to build a \"seahorse charter\", that's cool with me. Have fun with this!!!"
   ]
  },
  {
   "cell_type": "markdown",
   "metadata": {},
   "source": [
    "## In case it's not obvious\n",
    "**This is just starter code!** You're very quickly going to abandon this code for much more complicated functions, looping behavior, etc. Some of the stuff above is **required code** (I don't know how you'll complete the assignment without importing turtle...), but where it ends up in your final program, well, let's just say it won't look like this when you're done!\n",
    "\n",
    "Alright, so that initializes your turtle, but before you make it move, see what others have done with this. We haven't covered \"for loops\" yet, but there are some cool examples on the web: \n",
    "* Here's one: https://michael0x2a.com/blog/turtle-examples\n",
    "\n",
    "The starter code is not all that exciting, but it's enough to get you started. Try tweaking: \n",
    "* right() and left() to draw right angles\n",
    "* forward() to draw different distances"
   ]
  },
  {
   "cell_type": "code",
   "execution_count": null,
   "metadata": {},
   "outputs": [],
   "source": [
    "# Move the turtle to draw\n",
    "my_turtle.penup()       # do not draw while moving\n",
    "my_turtle.goto(30, 60)  # walk to coordinates\n",
    "my_turtle.pendown()     # start drawing again\n",
    "my_turtle.forward(80)   # move forward\n",
    "my_turtle.left(60)      # turn left\n",
    "my_turtle.forward(120)  # move forward\n",
    "my_turtle.right(120)    # turn left\n",
    "my_turtle.forward(120)  # move forward"
   ]
  },
  {
   "cell_type": "markdown",
   "metadata": {},
   "source": [
    "* Challenge 1: Can you draw a bar? What is a bar, but a rectangle...\n",
    "* Challenge 2: Can you draw multiple bars? Of course you could copy the instructions 5 times, but that's no fun. Try creating 5 bars using a while loop.\n",
    "\n",
    "Don't worry about the data set yet, just try drawing a fixed number of bars, like 5. "
   ]
  },
  {
   "cell_type": "markdown",
   "metadata": {},
   "source": [
    "## Helpful Hints: \n",
    "\n",
    "There are some complicated pieces to this puzzle.\n",
    "\n",
    "When getting started, **DO NOT worry about:** \n",
    "* Coloring your bars\n",
    "* Making this a top-level script (remember the \"if __name__ == \"__main__\":\" thing from class?...ignore that for now)\n",
    "\n",
    "When you're getting started, just get comfortable with the Turtle. Be sure to read more about the module itself! Below are a few helpful turtle functions\n",
    "\n",
    "Also, don't worry about the \"user input\" part of this yet. You'll drive yourself crazy if every time you want to test your program you have to input the file name and chart title!!!\n",
    "\n",
    "**Do this instead:** \n",
    "It's common in programming to hardcode values like this early on, then make them dynamic later"
   ]
  },
  {
   "cell_type": "markdown",
   "metadata": {},
   "source": [
    "### Helpful Function: GO HOME TURTLE!\n",
    "The turtle can only draw one thing (or loop of things) at a time. When you want it to start drawing the second thing, first tell it to go home! Like this: "
   ]
  },
  {
   "cell_type": "code",
   "execution_count": null,
   "metadata": {},
   "outputs": [],
   "source": [
    "my_turtle.home() ##This should reference the global coordinates you set earlier. (0,0) or (-20, -20)"
   ]
  },
  {
   "cell_type": "markdown",
   "metadata": {},
   "source": [
    "Remember, your turtle has a pen taped to its butt..."
   ]
  },
  {
   "cell_type": "code",
   "execution_count": null,
   "metadata": {},
   "outputs": [],
   "source": [
    "my_turtle.pendown() ##You guessed it, put the pendown(draw) \n",
    "my_turtle.penup() ##Pick up the pen (don't draw)"
   ]
  },
  {
   "cell_type": "markdown",
   "metadata": {},
   "source": [
    "## Writing Your Functions\n",
    "Once you feel comfortable manipulating the turtle, if you haven't already done this: Walk away from your computer, pick up a pencil and a piece of paper and **start scaffolding/outlining this assignment!**"
   ]
  },
  {
   "cell_type": "markdown",
   "metadata": {},
   "source": [
    "## Start Small\n",
    "Pick some achievable milestones. Spend some time trying to deliver those.\n",
    "\n",
    "Here are a couple of quick wins: \n",
    "1. Draw the x and y axes\n",
    "2. Draw tick marks on the y axis\n",
    "\n",
    "To get started, just see if you can get the turtle to draw two lines (don't forget about using the turtle home() function). Then figure out a way loop and draw your y-axis tick marks. \n",
    "\n",
    "Don't get too hung up on doing this in a function at first. It's okay to just draw these objects, then worry about wrapping them in a function later!"
   ]
  },
  {
   "cell_type": "markdown",
   "metadata": {},
   "source": [
    "You could put all this in one function, or break it out as 3. The answer is up to you.\n",
    "\n",
    "### Hint on working with Window Width: \n",
    "\n",
    "You set Window Width as a fixed value \"global variable\" for a reason. Use it! Think of the width and height numbers in terms of pixels. 800 pixels by 500 pixels. \n",
    "\n",
    "How far should your x and y axes extend (_turtle.forward(some distance?)_)? Instead of having a \"fixed\" axis distance, set the axis distance \"relative\" to your WINDOW WIDTH/HEIGHT variables!\n",
    "\n",
    "### Helpful Approach: \n",
    "Once your draw your axes, wrap them in functions. Practice calling those functions. This **could** look something like: "
   ]
  },
  {
   "cell_type": "code",
   "execution_count": null,
   "metadata": {},
   "outputs": [],
   "source": [
    "##BTW, we call this pseudocode! It looks like real code, but don't bother trying to run it.\n",
    "\n",
    "##Define your function\n",
    "def draw_y_axis(turtle):\n",
    "    work...\n",
    "    draw turtle draw!!!\n",
    "    turtle.home()\n",
    "    \n",
    "##Okay, Now call your function\n",
    "##Later you'll move these kinds of calls down closer to your main, but for now\n",
    "##for debugging/testing, they're fine here.\n",
    "draw_y_axis(my_turtle)\n",
    "\n",
    "##If you get that working, move on to the X Axis, then Y tick marks"
   ]
  },
  {
   "cell_type": "markdown",
   "metadata": {},
   "source": [
    "## Getting Started Reading the Data File: \n",
    "Wasn't that cool, you made a Frankenstein Henry Nina turtle and gave it instructions! You're even starting to think through the core pieces of this assignment. Let us please untape the turtle butt-pen for a minute and talk about the data file.\n",
    "\n",
    "Alright, there are two files in the repo you cloned. \n",
    "* huskies2016.txt\n",
    "* sample_data.txt\n",
    "\n",
    "Your program, in the end, should be able to read either of them and produce a consistent chart. Think about that for a second...\n",
    "\n",
    "...\n",
    "\n",
    "In fact, your program should be able to read any data file that matches this format and produce a fairly consistent chart.\n",
    "\n",
    "**DO THIS:** Open both files and understand the patterns between them. What do you observe? \n",
    "* Regardless of file length, theres this pattern of 3 \"data features\" appearing in the file: Label, number, number \n",
    "* The first is some arbitrary name label...\n",
    "* The second is some arbitrary measurement in an int format...\n",
    "\n",
    "**Okay now do this** Look at the finished chart. Start to translate the data bits to the image! \n",
    "* There's a dynamic number of bars...\n",
    "* The tallest bar is the height of the y-axis...\n",
    "* The tallest bar sets the max value of the y-axis...\n",
    "* What else do you notice? \n",
    "\n",
    "It's a good exercise to identify what you know just based on interrogating the final product. \n",
    "\n",
    "Now let's actually start to loop over this file."
   ]
  },
  {
   "cell_type": "code",
   "execution_count": null,
   "metadata": {},
   "outputs": [],
   "source": [
    "##We didn't get to cover for loops in class, so here's some starter code to get you started\n",
    "##Before you actually run this, think about what you think this code is doing...did it match expectations. \n",
    "##Hint, for loops read a lot like...well like the meaning of \"for\" in English\n",
    "filename = 'data/sample_data.txt'\n",
    "with open(filename) as file: \n",
    "    for line in file: \n",
    "        print(line)"
   ]
  },
  {
   "cell_type": "markdown",
   "metadata": {},
   "source": [
    "Ignoring the syntax for a minute, conceptually, let's say you want to grab every 1st object, how would you do it? What about every second object? \n",
    "\n",
    "**Hints:**: \n",
    "* Again, conceptually, could you use division? \n",
    "* There are other options. Read about the modulo operator: \"%\""
   ]
  },
  {
   "cell_type": "markdown",
   "metadata": {},
   "source": [
    "Alright, since we didn't get to _For Loops_ in class, I don't you to be held up. Here's a freebie: \n"
   ]
  },
  {
   "cell_type": "code",
   "execution_count": 1,
   "metadata": {},
   "outputs": [
    {
     "name": "stdout",
     "output_type": "stream",
     "text": [
      "18\n"
     ]
    }
   ],
   "source": [
    "## This is what I mean by hardcoding the filename. Do this for now, \n",
    "## Later you'll have your user input the file path/name, but during development, \n",
    "## it's okay to hardcode the path. Test: Try replacing the huskies2016 file path, and see if you get different results. \n",
    "\n",
    "filename = \"data/sample_data.txt\"\n",
    "\n",
    "with open(filename) as file: \n",
    "    num_lines = 0\n",
    "    for line in file: \n",
    "        num_lines = num_lines + 1\n",
    "print(num_lines)"
   ]
  },
  {
   "cell_type": "markdown",
   "metadata": {},
   "source": [
    "The above is a good intro to For Loops which we'll cover in our next lecture! Think for a minute, how is this different from a While Loop? \n",
    "\n",
    "Okay, this code above helps you figure out the count of lines in the file. That's not quite the same as the \"count of observations\"...\n",
    "\n",
    "My challenge to use is to find the count of observations. Let's break that down into 4 smaller \"bite-size\" challenges:\n",
    "* Challenge 1: Run the code above and make sure it works to produce an accurate count of observations in your data file\n",
    "* Challenge 2: Edit the code above in your .py script to calculate the count of observations (that's what you need, not the count of lines)...\n",
    "* Challenge 3: Define a function called \"count_observations\" that takes as an argument a filename and returns a count of observations. Use the code above as the instructions (\"the work\") in your function\n",
    "* Challenge 4: Here's the magic! Use your count of observations as the condition in your turtle bar chart loop! This will start to get your functions talking to each other. "
   ]
  },
  {
   "cell_type": "markdown",
   "metadata": {},
   "source": [
    "## Help with get_max_value\n",
    "Because: \n",
    "* We haven't gone over for loops\n",
    "* This is just conceptually kind of challenging\n",
    "* If you don't get this you can't really move on to the rest of the assignment\n",
    "\n",
    "I provide a little help for the get_max_value() function section\n",
    "\n",
    "**Caveat:** By the end of the quarter, you'll know simpler ways to achieve what this part of the program is asking you to do. But the point of this assignment is not to draw a chart. The point of this assignment is to reinforce the concepts of: \n",
    "* Looping over a data file\n",
    "* If logic\n",
    "* Python operators"
   ]
  },
  {
   "cell_type": "markdown",
   "metadata": {},
   "source": [
    "#### Alright, the question says: \n",
    "\n",
    "get_max_value() should take as an argument the path to a file to analyze (a string) and which of the two data features to consider (an integer). It will return the maximum value of that feature across the observations (e.g., sample_data.txt has a maximum \"feature 1\" of 12; all the values for \"feature 2\" are -1).\n",
    "\n",
    "To find the maximum: reading through the file one observation (3 lines) at a time, keeping track of the \"biggest\" value you've found so far. At each observation, check whether the feature of interest is greater than the current biggest, and if so make it become the new biggest!"
   ]
  },
  {
   "cell_type": "code",
   "execution_count": 2,
   "metadata": {},
   "outputs": [
    {
     "name": "stdout",
     "output_type": "stream",
     "text": [
      "data/sample_data.txt\n"
     ]
    }
   ],
   "source": [
    "##If you clone this repo you should be able to run the next few sections!!!\n",
    "filename = 'data/sample_data.txt'\n",
    "print(filename)"
   ]
  },
  {
   "cell_type": "code",
   "execution_count": 3,
   "metadata": {},
   "outputs": [
    {
     "name": "stdout",
     "output_type": "stream",
     "text": [
      "Alice\n",
      "\n",
      "8\n",
      "\n",
      "-1\n",
      "\n",
      "Bob\n",
      "\n",
      "12\n",
      "\n",
      "-2\n",
      "\n",
      "Charles\n",
      "\n",
      "3\n",
      "\n",
      "-3\n",
      "\n",
      "Doris\n",
      "\n",
      "7\n",
      "\n",
      "-4\n",
      "\n",
      "Edward\n",
      "\n",
      "4\n",
      "\n",
      "-5\n",
      "\n",
      "Fred\n",
      "\n",
      "3\n",
      "\n",
      "-6\n"
     ]
    }
   ],
   "source": [
    "## First get comfortable with the code that loops over a file\n",
    "with open(filename) as file: \n",
    "    for line in file: \n",
    "        print(line)"
   ]
  },
  {
   "cell_type": "markdown",
   "metadata": {},
   "source": [
    "Alright, so that's cool, you can print the contents of the file. But now that second \"feature\" is the thing you want, the numbers 8, 12, 3...\n",
    "\n",
    "To get to it, I will suggest using the mod operator. It's the percent sign, but it has a different function. You can read more about modulo here: https://stackoverflow.com/questions/4432208/how-does-work-in-python\n",
    "\n",
    "**Try it below:**"
   ]
  },
  {
   "cell_type": "code",
   "execution_count": 15,
   "metadata": {},
   "outputs": [
    {
     "name": "stdout",
     "output_type": "stream",
     "text": [
      "2\n",
      "1\n"
     ]
    }
   ],
   "source": [
    "##Try running 5%3\n",
    "print(5%3)\n",
    "\n",
    "##Now 3 mod 2\n",
    "print(3%2)\n"
   ]
  },
  {
   "cell_type": "markdown",
   "metadata": {},
   "source": [
    "Alright, now take the previous code and see if you can add an if statement and a modulo operation to find and print the list of the second \"features\" in the file"
   ]
  },
  {
   "cell_type": "code",
   "execution_count": 3,
   "metadata": {},
   "outputs": [
    {
     "name": "stdout",
     "output_type": "stream",
     "text": [
      "8\n",
      "\n",
      "12\n",
      "\n",
      "3\n",
      "\n",
      "7\n",
      "\n",
      "4\n",
      "\n",
      "3\n",
      "\n"
     ]
    }
   ],
   "source": [
    "##Update the comments below to print the numbers 8, 12, 3, 7, 4, 3\n",
    "\n",
    "with open(filename) as file: \n",
    "    count = 1\n",
    "    for line in file: \n",
    "        count = count + 1\n",
    "        if count%3 == 0:\n",
    "            print(line)"
   ]
  },
  {
   "cell_type": "markdown",
   "metadata": {},
   "source": [
    "The last step is the king of the hill part. I think we did an example in class where we had to create two variables, then replace the value of one with the value of the other (if the next one is greater than the previous). This requires if/and logic. \n",
    "\n",
    "If the condition is true, **and** the current line in the loop is > the previous largest, then your program has to update the variable that stores the max value with the new max value. \n",
    "\n",
    "Try replacing the comments below with code to make the program print 12. \n",
    "\n",
    "Once you do, the last step will be to indent the code and turn it into a function. "
   ]
  },
  {
   "cell_type": "code",
   "execution_count": 36,
   "metadata": {},
   "outputs": [
    {
     "name": "stdout",
     "output_type": "stream",
     "text": [
      "12\n"
     ]
    }
   ],
   "source": [
    "with open(filename) as file: \n",
    "    ##Here: Initialize a counter variable to do your counting\n",
    "    count = 1\n",
    "    ##Here: Initialize a second variable to store the largest number\n",
    "    largest_number = 1\n",
    "    for line in file: \n",
    "        ##Here: Increment your counter by 1\n",
    "        count = count + 1\n",
    "        ##If [counter variable] % [some number] == [some number] and int(line) > [largest number variable]: \n",
    "        if count%3 == 0 and int(line) > largest_number:\n",
    "            ##update value of the [largest number variable] with int(line)\n",
    "            largest_number = int(line)\n",
    "print(largest_number)"
   ]
  },
  {
   "cell_type": "markdown",
   "metadata": {},
   "source": [
    "BTW!!!I really like for loops, so I use it in my example, but **everything* that I do with a for loop can be done with a while loop!**"
   ]
  },
  {
   "cell_type": "code",
   "execution_count": 22,
   "metadata": {},
   "outputs": [
    {
     "name": "stdout",
     "output_type": "stream",
     "text": [
      "Alice\n",
      "\n",
      "8\n",
      "\n",
      "-1\n",
      "\n",
      "Bob\n",
      "\n",
      "12\n",
      "\n",
      "-2\n",
      "\n",
      "Charles\n",
      "\n",
      "3\n",
      "\n",
      "-3\n",
      "\n",
      "Doris\n",
      "\n",
      "7\n",
      "\n",
      "-4\n",
      "\n",
      "Edward\n",
      "\n",
      "4\n",
      "\n",
      "-5\n",
      "\n",
      "Fred\n",
      "\n",
      "3\n",
      "\n",
      "-6\n"
     ]
    }
   ],
   "source": [
    "f = open(filename)\n",
    "# use readline() to read the first line \n",
    "line = f.readline()\n",
    "# use the read line to read further.\n",
    "# If the file is not empty keep reading one line\n",
    "# at a time, till the file is empty\n",
    "while line:\n",
    "    print(line)\n",
    "    # use realine() to read next line\n",
    "    line = f.readline()"
   ]
  },
  {
   "cell_type": "code",
   "execution_count": null,
   "metadata": {},
   "outputs": [],
   "source": []
  }
 ],
 "metadata": {
  "kernelspec": {
   "display_name": "Python 3",
   "language": "python",
   "name": "python3"
  },
  "language_info": {
   "codemirror_mode": {
    "name": "ipython",
    "version": 3
   },
   "file_extension": ".py",
   "mimetype": "text/x-python",
   "name": "python",
   "nbconvert_exporter": "python",
   "pygments_lexer": "ipython3",
   "version": "3.7.1"
  }
 },
 "nbformat": 4,
 "nbformat_minor": 2
}
